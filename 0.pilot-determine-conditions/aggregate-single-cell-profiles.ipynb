{
 "cells": [
  {
   "cell_type": "markdown",
   "metadata": {},
   "source": [
    "# Process Single Cell Profiles\n",
    "\n",
    "**Gregory Way, 2019**\n",
    "\n",
    "Load in specific columns:\n",
    "\n",
    "  * `Cells_Neighbors_PercentTouching_Adjacent`\n",
    "  * `Cells_Neighbors_NumberOfNeighbors_Adjacent` \n",
    "  \n",
    "to visualize distributions across batches and cell lines.\n",
    "\n",
    "## SQLite Tables\n",
    "\n",
    "There are 4 tables in the database:\n",
    "\n",
    "1. Cells\n",
    "2. Cytoplasm\n",
    "3. Nuclei\n",
    "4. Image\n",
    "\n",
    "They are to be merged together.\n",
    "\n",
    "The first three can be merged by the following columns: `[\"TableNumber\", \"ImageNumber\", \"ObjectNumber\"]`\n",
    "\n",
    "The `Image` table can be merged by `[\"TableNumber\", \"ImageNumber\"]`"
   ]
  },
  {
   "cell_type": "code",
   "execution_count": 1,
   "metadata": {},
   "outputs": [],
   "source": [
    "import os\n",
    "import glob\n",
    "import pandas as pd\n",
    "import sqlite3\n",
    "\n",
    "from rpy2.robjects import pandas2ri\n",
    "import rpy2.robjects as robjects\n",
    "\n",
    "import matplotlib.pyplot as plt\n",
    "import seaborn as sns"
   ]
  },
  {
   "cell_type": "code",
   "execution_count": 2,
   "metadata": {},
   "outputs": [],
   "source": [
    "%matplotlib inline"
   ]
  },
  {
   "cell_type": "code",
   "execution_count": 3,
   "metadata": {},
   "outputs": [],
   "source": [
    "def get_sc_info(batch_id):\n",
    "    conn = sqlite3.connect(sql_file_dict[batch_id])\n",
    "    \n",
    "    sc_cells_df = pd.read_sql_query(\n",
    "        \"\"\"\n",
    "        select\n",
    "        Cells_Neighbors_PercentTouching_Adjacent,\n",
    "        Cells_Neighbors_NumberOfNeighbors_Adjacent\n",
    "        from Cells\n",
    "        \"\"\", conn)\n",
    "    \n",
    "    sc_cells_df.Cells_Neighbors_NumberOfNeighbors_Adjacent.hist(bins=12)\n",
    "    plt.xlabel(\"NumberOfNeighbors_Adjacent - {}\".format(batch_id))\n",
    "    \n",
    "    file = os.path.join(\"figures\",\n",
    "                        \"single_cell_diagnostics\",\n",
    "                        \"{}_adjacent.png\".format(batch_id))\n",
    "    plt.savefig(file, height = 4, width = 5)\n",
    "    plt.show()\n",
    "    plt.close()\n",
    "    \n",
    "    sc_cells_df.Cells_Neighbors_PercentTouching_Adjacent.hist(bins=12)\n",
    "    plt.xlabel(\"NumberOfNeighbors_PercentTouching - {}\".format(batch_id))\n",
    "    \n",
    "    file = os.path.join(\"figures\",\n",
    "                        \"single_cell_diagnostics\",\n",
    "                        \"{}_percenttouching.png\".format(batch_id))\n",
    "    plt.savefig(file, height = 4, width = 5)\n",
    "    plt.show()\n",
    "    plt.close()\n",
    "    \n",
    "    # Seaborn Joint Plot\n",
    "    g = sns.jointplot(\"Cells_Neighbors_PercentTouching_Adjacent\",\n",
    "                      \"Cells_Neighbors_NumberOfNeighbors_Adjacent\",\n",
    "                      data=sc_cells_df,\n",
    "                      kind=\"hex\")\n",
    "    \n",
    "    file = os.path.join(\"figures\",\n",
    "                        \"single_cell_diagnostics\",\n",
    "                        \"{}_neighbor_relationship.png\".format(batch_id))\n",
    "    plt.savefig(file, height = 4, width = 5)\n",
    "    plt.show()\n",
    "    plt.close()"
   ]
  },
  {
   "cell_type": "code",
   "execution_count": 4,
   "metadata": {},
   "outputs": [],
   "source": [
    "os.makedirs(os.path.join(\"figures\", \"single_cell_diagnostics\"), exist_ok=True)\n",
    "os.makedirs(\"data\", exist_ok=True)\n",
    "os.makedirs(\"results\", exist_ok=True)"
   ]
  },
  {
   "cell_type": "markdown",
   "metadata": {},
   "source": [
    "## Step 0 - Load Constants and Generate Objects"
   ]
  },
  {
   "cell_type": "code",
   "execution_count": 5,
   "metadata": {},
   "outputs": [
    {
     "data": {
      "text/plain": [
       "{'BR00103267': '../../../../../../bucket/projects/2018_06_05_cmQTL/workspace/backend/2019_05_13_Batch2/BR00103267/BR00103267.sqlite',\n",
       " 'BR00103268': '../../../../../../bucket/projects/2018_06_05_cmQTL/workspace/backend/2019_05_13_Batch2/BR00103268/BR00103268.sqlite'}"
      ]
     },
     "execution_count": 5,
     "metadata": {},
     "output_type": "execute_result"
    }
   ],
   "source": [
    "batches = [\"BR00103267\", \"BR00103268\"]\n",
    "\n",
    "cell_cols = [\"TableNumber\", \"ImageNumber\", \"ObjectNumber\"]\n",
    "image_cols = [\"TableNumber\", \"ImageNumber\"]\n",
    "\n",
    "bucket_dir = os.path.join(\"..\", \"..\", \"..\", \"..\", \"..\", \"..\", \"bucket\")\n",
    "backend_dir = os.path.join(\"projects\", \"2018_06_05_cmQTL\", \"workspace\", \"backend\")\n",
    "batch_dir = os.path.join(bucket_dir, backend_dir, \"2019_05_13_Batch2\")\n",
    "\n",
    "sql_file_dict = {\n",
    "    x: os.path.join(batch_dir, x, \"{}.sqlite\".format(x))\n",
    "    for x in batches\n",
    "}\n",
    "\n",
    "sql_file_dict"
   ]
  },
  {
   "cell_type": "code",
   "execution_count": 6,
   "metadata": {},
   "outputs": [
    {
     "name": "stdout",
     "output_type": "stream",
     "text": [
      "589\n"
     ]
    },
    {
     "data": {
      "text/html": [
       "<div>\n",
       "<style scoped>\n",
       "    .dataframe tbody tr th:only-of-type {\n",
       "        vertical-align: middle;\n",
       "    }\n",
       "\n",
       "    .dataframe tbody tr th {\n",
       "        vertical-align: top;\n",
       "    }\n",
       "\n",
       "    .dataframe thead th {\n",
       "        text-align: right;\n",
       "    }\n",
       "</style>\n",
       "<table border=\"1\" class=\"dataframe\">\n",
       "  <thead>\n",
       "    <tr style=\"text-align: right;\">\n",
       "      <th></th>\n",
       "      <th>Metadata_Plate</th>\n",
       "      <th>Metadata_Well</th>\n",
       "      <th>Metadata_Assay_Plate_Barcode</th>\n",
       "      <th>Metadata_Plate_Map_Name</th>\n",
       "      <th>Metadata_well_position</th>\n",
       "      <th>Metadata_plating_density</th>\n",
       "      <th>Metadata_line_ID</th>\n",
       "      <th>Metadata_timepoint</th>\n",
       "      <th>Cells_AreaShape_Compactness</th>\n",
       "      <th>Cells_AreaShape_EulerNumber</th>\n",
       "      <th>...</th>\n",
       "      <th>Nuclei_Texture_InfoMeas2_Mito_5_00</th>\n",
       "      <th>Nuclei_Texture_InverseDifferenceMoment_DNA_20_03</th>\n",
       "      <th>Nuclei_Texture_SumAverage_Brightfield_20_02</th>\n",
       "      <th>Nuclei_Texture_SumAverage_DNA_20_02</th>\n",
       "      <th>Nuclei_Texture_SumAverage_ER_20_03</th>\n",
       "      <th>Nuclei_Texture_SumEntropy_ER_20_01</th>\n",
       "      <th>Nuclei_Texture_SumVariance_AGP_20_03</th>\n",
       "      <th>Nuclei_Texture_SumVariance_DNA_20_01</th>\n",
       "      <th>Nuclei_Texture_SumVariance_ER_20_03</th>\n",
       "      <th>Nuclei_Texture_SumVariance_Mito_20_01</th>\n",
       "    </tr>\n",
       "  </thead>\n",
       "  <tbody>\n",
       "    <tr>\n",
       "      <th>0</th>\n",
       "      <td>BR00103267</td>\n",
       "      <td>A01</td>\n",
       "      <td>BR00103267</td>\n",
       "      <td>cmQTL1-4_mt</td>\n",
       "      <td>A01</td>\n",
       "      <td>5000</td>\n",
       "      <td>A</td>\n",
       "      <td>6</td>\n",
       "      <td>-0.194779</td>\n",
       "      <td>0.682061</td>\n",
       "      <td>...</td>\n",
       "      <td>1.867574</td>\n",
       "      <td>-0.295660</td>\n",
       "      <td>2.067796</td>\n",
       "      <td>-0.704951</td>\n",
       "      <td>1.402976</td>\n",
       "      <td>3.063689</td>\n",
       "      <td>2.954758</td>\n",
       "      <td>0.218780</td>\n",
       "      <td>2.926116</td>\n",
       "      <td>3.340355</td>\n",
       "    </tr>\n",
       "    <tr>\n",
       "      <th>1</th>\n",
       "      <td>BR00103267</td>\n",
       "      <td>A02</td>\n",
       "      <td>BR00103267</td>\n",
       "      <td>cmQTL1-4_mt</td>\n",
       "      <td>A02</td>\n",
       "      <td>5000</td>\n",
       "      <td>A</td>\n",
       "      <td>6</td>\n",
       "      <td>-0.834432</td>\n",
       "      <td>-2.867988</td>\n",
       "      <td>...</td>\n",
       "      <td>1.163408</td>\n",
       "      <td>0.915729</td>\n",
       "      <td>0.581761</td>\n",
       "      <td>-0.919340</td>\n",
       "      <td>1.817793</td>\n",
       "      <td>1.057007</td>\n",
       "      <td>1.533685</td>\n",
       "      <td>-1.050026</td>\n",
       "      <td>0.872220</td>\n",
       "      <td>1.716821</td>\n",
       "    </tr>\n",
       "  </tbody>\n",
       "</table>\n",
       "<p>2 rows × 597 columns</p>\n",
       "</div>"
      ],
      "text/plain": [
       "  Metadata_Plate Metadata_Well Metadata_Assay_Plate_Barcode  \\\n",
       "0     BR00103267           A01                   BR00103267   \n",
       "1     BR00103267           A02                   BR00103267   \n",
       "\n",
       "  Metadata_Plate_Map_Name Metadata_well_position  Metadata_plating_density  \\\n",
       "0             cmQTL1-4_mt                    A01                      5000   \n",
       "1             cmQTL1-4_mt                    A02                      5000   \n",
       "\n",
       "  Metadata_line_ID  Metadata_timepoint  Cells_AreaShape_Compactness  \\\n",
       "0                A                   6                    -0.194779   \n",
       "1                A                   6                    -0.834432   \n",
       "\n",
       "   Cells_AreaShape_EulerNumber  ...  Nuclei_Texture_InfoMeas2_Mito_5_00  \\\n",
       "0                     0.682061  ...                            1.867574   \n",
       "1                    -2.867988  ...                            1.163408   \n",
       "\n",
       "   Nuclei_Texture_InverseDifferenceMoment_DNA_20_03  \\\n",
       "0                                         -0.295660   \n",
       "1                                          0.915729   \n",
       "\n",
       "   Nuclei_Texture_SumAverage_Brightfield_20_02  \\\n",
       "0                                     2.067796   \n",
       "1                                     0.581761   \n",
       "\n",
       "   Nuclei_Texture_SumAverage_DNA_20_02  Nuclei_Texture_SumAverage_ER_20_03  \\\n",
       "0                            -0.704951                            1.402976   \n",
       "1                            -0.919340                            1.817793   \n",
       "\n",
       "   Nuclei_Texture_SumEntropy_ER_20_01  Nuclei_Texture_SumVariance_AGP_20_03  \\\n",
       "0                            3.063689                              2.954758   \n",
       "1                            1.057007                              1.533685   \n",
       "\n",
       "   Nuclei_Texture_SumVariance_DNA_20_01  Nuclei_Texture_SumVariance_ER_20_03  \\\n",
       "0                              0.218780                             2.926116   \n",
       "1                             -1.050026                             0.872220   \n",
       "\n",
       "   Nuclei_Texture_SumVariance_Mito_20_01  \n",
       "0                               3.340355  \n",
       "1                               1.716821  \n",
       "\n",
       "[2 rows x 597 columns]"
      ]
     },
     "execution_count": 6,
     "metadata": {},
     "output_type": "execute_result"
    }
   ],
   "source": [
    "# Load example data for selected features\n",
    "file = os.path.join(batch_dir, batches[0], 'BR00103267_normalized_variable_selected.csv')\n",
    "example_df = pd.read_csv(file, sep=',')\n",
    "\n",
    "cp_features = example_df.loc[:, ~example_df.columns.str.startswith(\"Metadata_\")].columns.tolist()\n",
    "print(len(cp_features))\n",
    "\n",
    "example_df.head(2)"
   ]
  },
  {
   "cell_type": "code",
   "execution_count": 7,
   "metadata": {},
   "outputs": [
    {
     "data": {
      "text/plain": [
       "594"
      ]
     },
     "execution_count": 7,
     "metadata": {},
     "output_type": "execute_result"
    }
   ],
   "source": [
    "use_cols = cell_cols + [\"Metadata_Well\", \"Metadata_Plate\"] + cp_features\n",
    "len(use_cols)"
   ]
  },
  {
   "cell_type": "markdown",
   "metadata": {},
   "source": [
    "## Step 1 - Visualize Single Cell Relationships"
   ]
  },
  {
   "cell_type": "code",
   "execution_count": 8,
   "metadata": {},
   "outputs": [
    {
     "data": {
      "image/png": "[encoded data removed]",
      "text/plain": [
       "<Figure size 432x288 with 1 Axes>"
      ]
     },
     "metadata": {
      "needs_background": "light"
     },
     "output_type": "display_data"
    },
    {
     "data": {
      "image/png": "[encoded data removed]",
      "text/plain": [
       "<Figure size 432x288 with 1 Axes>"
      ]
     },
     "metadata": {
      "needs_background": "light"
     },
     "output_type": "display_data"
    },
    {
     "data": {
      "image/png": "[encoded data removed]",
      "text/plain": [
       "<Figure size 432x432 with 3 Axes>"
      ]
     },
     "metadata": {
      "needs_background": "light"
     },
     "output_type": "display_data"
    },
    {
     "data": {
      "image/png": "[encoded data removed]",
      "text/plain": [
       "<Figure size 432x288 with 1 Axes>"
      ]
     },
     "metadata": {
      "needs_background": "light"
     },
     "output_type": "display_data"
    },
    {
     "data": {
      "image/png": "[encoded data removed]",
      "text/plain": [
       "<Figure size 432x288 with 1 Axes>"
      ]
     },
     "metadata": {
      "needs_background": "light"
     },
     "output_type": "display_data"
    },
    {
     "data": {
      "image/png": "[encoded data removed]",
      "text/plain": [
       "<Figure size 432x432 with 3 Axes>"
      ]
     },
     "metadata": {
      "needs_background": "light"
     },
     "output_type": "display_data"
    }
   ],
   "source": [
    "# Generate and save plots\n",
    "for batch in batches:\n",
    "    get_sc_info(batch)"
   ]
  },
  {
   "cell_type": "markdown",
   "metadata": {},
   "source": [
    "## Step 2 - Count how many cells per well and single cell type"
   ]
  },
  {
   "cell_type": "code",
   "execution_count": 9,
   "metadata": {},
   "outputs": [],
   "source": [
    "cell_count_list = []\n",
    "for batch_id in batches:\n",
    "    conn = sqlite3.connect(sql_file_dict[batch_id])\n",
    "    \n",
    "    # Read in single cell profiles\n",
    "    sc_cells_df = pd.read_sql_query(\n",
    "        \"\"\"\n",
    "        select\n",
    "        TableNumber,\n",
    "        ImageNumber,\n",
    "        ObjectNumber,\n",
    "        Cells_Neighbors_NumberOfNeighbors_Adjacent\n",
    "        from Cells\n",
    "        \"\"\", conn).merge(\n",
    "        pd.read_sql_query(\n",
    "            \"\"\"\n",
    "            select\n",
    "            TableNumber,\n",
    "            ImageNumber,\n",
    "            Metadata_Well\n",
    "            from Image\n",
    "            \"\"\", conn),\n",
    "        left_on=image_cols,\n",
    "            right_on=image_cols,\n",
    "            how='left'\n",
    "        )\n",
    "\n",
    "    # Get Cell Counts\n",
    "    total_count_df = pd.DataFrame(\n",
    "        sc_cells_df.groupby(\"Metadata_Well\")\n",
    "        ['ObjectNumber']\n",
    "        .count()\n",
    "        .reset_index()\n",
    "        .rename({\"ObjectNumber\": \"cell_count\"}, axis='columns')\n",
    "        .assign(batch_id=batch_id,\n",
    "                sc_type=\"all\")\n",
    "    )\n",
    "    cell_count_list.append(total_count_df)\n",
    "    \n",
    "    isolated_count_df = pd.DataFrame(\n",
    "        sc_cells_df\n",
    "        .query(\"Cells_Neighbors_NumberOfNeighbors_Adjacent == 0\")\n",
    "        .groupby(\"Metadata_Well\")\n",
    "        ['ObjectNumber']\n",
    "        .count()\n",
    "        .reset_index()\n",
    "        .rename({\"ObjectNumber\": \"cell_count\"}, axis='columns')\n",
    "        .assign(batch_id=batch_id,\n",
    "                sc_type=\"isolated\")\n",
    "    )\n",
    "    cell_count_list.append(isolated_count_df)\n",
    "    \n",
    "    colony_count_df = pd.DataFrame(\n",
    "        sc_cells_df\n",
    "        .query(\"Cells_Neighbors_NumberOfNeighbors_Adjacent >= 4\")\n",
    "        .groupby(\"Metadata_Well\")\n",
    "        ['ObjectNumber']\n",
    "        .count()\n",
    "        .reset_index()\n",
    "        .rename({\"ObjectNumber\": \"cell_count\"}, axis='columns')\n",
    "        .assign(batch_id=batch_id,\n",
    "                sc_type=\"colony\")\n",
    "    )\n",
    "    cell_count_list.append(colony_count_df)"
   ]
  },
  {
   "cell_type": "code",
   "execution_count": 10,
   "metadata": {},
   "outputs": [],
   "source": [
    "cell_count_df = pd.concat(cell_count_list)\n",
    "\n",
    "file = os.path.join(\"results\", \"well_cell_counts.tsv\")\n",
    "cell_count_df.to_csv(file, sep='\\t')"
   ]
  },
  {
   "cell_type": "markdown",
   "metadata": {},
   "source": [
    "## Step 3 - Extract Single Cell Profiles"
   ]
  },
  {
   "cell_type": "code",
   "execution_count": 11,
   "metadata": {},
   "outputs": [],
   "source": [
    "for batch_id in batches:\n",
    "    conn = sqlite3.connect(sql_file_dict[batch_id])\n",
    "    \n",
    "    # Read in single cell profiles\n",
    "    sc_cells_df = pd.read_sql_query(\"\"\"\n",
    "        select *\n",
    "        from Cells\n",
    "        where Cells_Neighbors_NumberOfNeighbors_Adjacent == 0\n",
    "        \"\"\", conn)\n",
    "\n",
    "    # Load and Merge Single Cell Data\n",
    "    sc_cells_df = (\n",
    "        sc_cells_df\n",
    "        .merge(\n",
    "            pd.read_sql_query(\"\"\"\n",
    "                select *\n",
    "                from Cytoplasm\n",
    "                \"\"\", conn),\n",
    "            left_on=cell_cols,\n",
    "            right_on=cell_cols,\n",
    "            how='left'\n",
    "        )\n",
    "        .merge(\n",
    "            pd.read_sql_query(\"\"\"\n",
    "                select *\n",
    "                from Nuclei\n",
    "                \"\"\", conn),\n",
    "            left_on=cell_cols,\n",
    "            right_on=cell_cols,\n",
    "            how='left'\n",
    "        )\n",
    "        .merge(\n",
    "            pd.read_sql_query(\"\"\"\n",
    "                select *\n",
    "                from Image\n",
    "                \"\"\", conn),\n",
    "            left_on=image_cols,\n",
    "            right_on=image_cols,\n",
    "            how='left'\n",
    "        )\n",
    "    ).loc[:, use_cols]\n",
    "\n",
    "    # Write out the file to disk\n",
    "    file = os.path.join(\"data\", \"{}_single_cell_isolated_profiles.tsv.gz\".format(batch_id))\n",
    "    sc_cells_df.to_csv(file, sep='\\t', index=False)\n",
    "    \n",
    "    del sc_cells_df\n",
    "    \n",
    "    colony_cells_df = pd.read_sql_query(\"\"\"\n",
    "        select *\n",
    "        from Cells\n",
    "        where Cells_Neighbors_NumberOfNeighbors_Adjacent >= 4\n",
    "        \"\"\", conn)\n",
    "\n",
    "    # Load Single Cell Data\n",
    "    colony_cells_df = (\n",
    "        colony_cells_df.merge(\n",
    "            pd.read_sql_query(\"\"\"\n",
    "                select *\n",
    "                from Cytoplasm\n",
    "                \"\"\", conn),\n",
    "            left_on=cell_cols,\n",
    "            right_on=cell_cols,\n",
    "            how='left'\n",
    "        ).merge(\n",
    "            pd.read_sql_query(\"\"\"\n",
    "                select *\n",
    "                from Nuclei\n",
    "                \"\"\", conn),\n",
    "            left_on=cell_cols,\n",
    "            right_on=cell_cols,\n",
    "            how='left'\n",
    "        ).merge(\n",
    "            pd.read_sql_query(\"\"\"\n",
    "                select *\n",
    "                from Image\n",
    "                \"\"\", conn),\n",
    "            left_on=image_cols,\n",
    "            right_on=image_cols,\n",
    "            how='left'\n",
    "        )\n",
    "    ).loc[:, use_cols]\n",
    "    \n",
    "    file = os.path.join(\"data\", \"{}_single_cell_colony_profiles.tsv.gz\".format(batch_id))\n",
    "    colony_cells_df.to_csv(file, sep='\\t', index=False)\n",
    "    \n",
    "    del colony_cells_df"
   ]
  }
 ],
 "metadata": {
  "kernelspec": {
   "display_name": "Python [conda env:cmqtl] *",
   "language": "python",
   "name": "conda-env-cmqtl-py"
  },
  "language_info": {
   "codemirror_mode": {
    "name": "ipython",
    "version": 3
   },
   "file_extension": ".py",
   "mimetype": "text/x-python",
   "name": "python",
   "nbconvert_exporter": "python",
   "pygments_lexer": "ipython3",
   "version": "3.7.1"
  }
 },
 "nbformat": 4,
 "nbformat_minor": 2
}
